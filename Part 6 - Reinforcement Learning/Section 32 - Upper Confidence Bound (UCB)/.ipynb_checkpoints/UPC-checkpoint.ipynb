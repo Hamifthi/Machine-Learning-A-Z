{
 "cells": [
  {
   "cell_type": "code",
   "execution_count": 13,
   "metadata": {},
   "outputs": [],
   "source": [
    "import numpy as np\n",
    "import pandas as pd\n",
    "import matplotlib.pyplot as plt\n",
    "import math"
   ]
  },
  {
   "cell_type": "code",
   "execution_count": 14,
   "metadata": {},
   "outputs": [],
   "source": [
    "dataset = pd.read_csv('Ads_CTR_Optimisation.csv')"
   ]
  },
  {
   "cell_type": "code",
   "execution_count": 15,
   "metadata": {},
   "outputs": [],
   "source": [
    "# Implementing UCB\n",
    "N = 10000\n",
    "d = 10\n",
    "adsSelected = []\n",
    "numbersOfSelection = [0] * d\n",
    "sumsOfReward = [0] * d\n",
    "totalReward = 0\n",
    "for n in range(N):\n",
    "    ad = 0\n",
    "    maxUpperBound = 0\n",
    "    for i in range(d):\n",
    "        if (numbersOfSelection[i] > 0):\n",
    "            averageReward = sumsOfReward[i] / numbersOfSelection[i]\n",
    "            deltaI = math.sqrt(1.5 * math.log(n + 1) / numbersOfSelection[i])\n",
    "            upperBound = averageReward + deltaI\n",
    "        else:\n",
    "            upperBound = 1e400\n",
    "        if upperBound > maxUpperBound:\n",
    "            maxUpperBound = upperBound\n",
    "            ad = i\n",
    "    adsSelected.append(ad)\n",
    "    numbersOfSelection[ad] += 1\n",
    "    reward = dataset.values[n, ad]\n",
    "    sumsOfReward[ad] += reward\n",
    "    totalReward += reward"
   ]
  },
  {
   "cell_type": "code",
   "execution_count": 17,
   "metadata": {},
   "outputs": [
    {
     "name": "stdout",
     "output_type": "stream",
     "text": [
      "[120, 47, 7, 38, 1675, 1, 27, 236, 20, 7]\n"
     ]
    }
   ],
   "source": [
    "print(numbersOfSelection)"
   ]
  },
  {
   "cell_type": "code",
   "execution_count": null,
   "metadata": {},
   "outputs": [],
   "source": []
  }
 ],
 "metadata": {
  "kernelspec": {
   "display_name": "Python 3",
   "language": "python",
   "name": "python3"
  },
  "language_info": {
   "codemirror_mode": {
    "name": "ipython",
    "version": 3
   },
   "file_extension": ".py",
   "mimetype": "text/x-python",
   "name": "python",
   "nbconvert_exporter": "python",
   "pygments_lexer": "ipython3",
   "version": "3.6.3"
  }
 },
 "nbformat": 4,
 "nbformat_minor": 2
}
