{
 "cells": [
  {
   "cell_type": "code",
   "execution_count": 25,
   "metadata": {},
   "outputs": [],
   "source": [
    "import numpy as np\n",
    "import pandas as pd\n",
    "import matplotlib.pyplot as plt\n",
    "import math"
   ]
  },
  {
   "cell_type": "code",
   "execution_count": 26,
   "metadata": {},
   "outputs": [],
   "source": [
    "dataset = pd.read_csv('Ads_CTR_Optimisation.csv')"
   ]
  },
  {
   "cell_type": "code",
   "execution_count": 27,
   "metadata": {},
   "outputs": [],
   "source": [
    "# Implementing UCB\n",
    "N = 10000\n",
    "d = 10\n",
    "adsSelected = []\n",
    "numbersOfSelection = [0] * d\n",
    "sumsOfReward = [0] * d\n",
    "totalReward = 0\n",
    "for n in range(N):\n",
    "    ad = 0\n",
    "    maxUpperBound = 0\n",
    "    for i in range(d):\n",
    "        if (numbersOfSelection[i] > 0):\n",
    "            averageReward = sumsOfReward[i] / numbersOfSelection[i]\n",
    "            deltaI = math.sqrt(1.5 * math.log(n + 1) / numbersOfSelection[i])\n",
    "            upperBound = averageReward + deltaI\n",
    "        else:\n",
    "            upperBound = 1e400\n",
    "        if upperBound > maxUpperBound:\n",
    "            maxUpperBound = upperBound\n",
    "            ad = i\n",
    "    adsSelected.append(ad)\n",
    "    numbersOfSelection[ad] += 1\n",
    "    reward = dataset.values[n, ad]\n",
    "    sumsOfReward[ad] += reward\n",
    "    totalReward += reward"
   ]
  },
  {
   "cell_type": "code",
   "execution_count": 28,
   "metadata": {},
   "outputs": [
    {
     "data": {
      "image/png": "[encoded data removed]",
      "text/plain": [
       "<matplotlib.figure.Figure at 0x1a515cf8940>"
      ]
     },
     "metadata": {},
     "output_type": "display_data"
    }
   ],
   "source": [
    "plt.hist(adsSelected)\n",
    "plt.title('Histogram of ads selections')\n",
    "plt.xlabel('Ads')\n",
    "plt.ylabel('Number of times each ad selected')\n",
    "plt.show()"
   ]
  }
 ],
 "metadata": {
  "kernelspec": {
   "display_name": "Python 3",
   "language": "python",
   "name": "python3"
  },
  "language_info": {
   "codemirror_mode": {
    "name": "ipython",
    "version": 3
   },
   "file_extension": ".py",
   "mimetype": "text/x-python",
   "name": "python",
   "nbconvert_exporter": "python",
   "pygments_lexer": "ipython3",
   "version": "3.6.3"
  }
 },
 "nbformat": 4,
 "nbformat_minor": 2
}
