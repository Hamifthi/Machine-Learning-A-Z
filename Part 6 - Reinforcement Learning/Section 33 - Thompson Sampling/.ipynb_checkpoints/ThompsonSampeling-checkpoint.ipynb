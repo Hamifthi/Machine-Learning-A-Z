{
 "cells": [
  {
   "cell_type": "code",
   "execution_count": 72,
   "metadata": {},
   "outputs": [],
   "source": [
    "import numpy as np\n",
    "import pandas as pd\n",
    "import matplotlib.pyplot as plt"
   ]
  },
  {
   "cell_type": "code",
   "execution_count": 73,
   "metadata": {},
   "outputs": [],
   "source": [
    "dataset = pd.read_csv('Ads_CTR_Optimisation.csv')"
   ]
  },
  {
   "cell_type": "code",
   "execution_count": 74,
   "metadata": {},
   "outputs": [],
   "source": [
    "# Implementing Thompson Sampling\n",
    "N = 10000\n",
    "d = 10\n",
    "adsSelected = []\n",
    "numberOfRewards1 = [0] * d\n",
    "numberOfRewards0 = [0] * d\n",
    "totalReward = 0\n",
    "for n in range(N):\n",
    "    ad = 0\n",
    "    maxRandom = 0\n",
    "    for i in range(d):\n",
    "        randomBeta = np.random.beta(numberOfRewards1[i] + 1, numberOfRewards0[i] + 1)\n",
    "        if randomBeta > maxRandom:\n",
    "            maxRandom = randomBeta\n",
    "            ad = i\n",
    "    adsSelected.append(ad)\n",
    "    reward = dataset.values[n, ad]\n",
    "    if reward == 1:\n",
    "        numberOfRewards1[ad] += 1\n",
    "    numberOfRewards0[ad] += 1\n",
    "    totalReward += reward"
   ]
  },
  {
   "cell_type": "code",
   "execution_count": 75,
   "metadata": {},
   "outputs": [
    {
     "name": "stdout",
     "output_type": "stream",
     "text": [
      "2515\n"
     ]
    }
   ],
   "source": [
    "print(totalReward)"
   ]
  },
  {
   "cell_type": "code",
   "execution_count": 76,
   "metadata": {},
   "outputs": [
    {
     "data": {
      "image/png": "[encoded data removed]",
      "text/plain": [
       "<matplotlib.figure.Figure at 0x183c2f5fb38>"
      ]
     },
     "metadata": {},
     "output_type": "display_data"
    }
   ],
   "source": [
    "plt.hist(adsSelected, edgecolor = 'black')\n",
    "plt.title('Histogram of ads selections')\n",
    "plt.xlabel('Ads')\n",
    "plt.ylabel('Number of times each ad selected')\n",
    "plt.show()"
   ]
  }
 ],
 "metadata": {
  "kernelspec": {
   "display_name": "Python 3",
   "language": "python",
   "name": "python3"
  },
  "language_info": {
   "codemirror_mode": {
    "name": "ipython",
    "version": 3
   },
   "file_extension": ".py",
   "mimetype": "text/x-python",
   "name": "python",
   "nbconvert_exporter": "python",
   "pygments_lexer": "ipython3",
   "version": "3.6.3"
  }
 },
 "nbformat": 4,
 "nbformat_minor": 2
}
