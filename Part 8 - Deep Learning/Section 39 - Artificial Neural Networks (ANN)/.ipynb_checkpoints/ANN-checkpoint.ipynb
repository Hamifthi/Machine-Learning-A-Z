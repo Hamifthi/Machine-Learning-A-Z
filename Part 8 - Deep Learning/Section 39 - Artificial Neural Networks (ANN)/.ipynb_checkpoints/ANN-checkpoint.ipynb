{
 "cells": [
  {
   "cell_type": "code",
   "execution_count": 169,
   "metadata": {},
   "outputs": [],
   "source": [
    "import numpy as np\n",
    "import matplotlib.pyplot as plt\n",
    "import pandas as pd"
   ]
  },
  {
   "cell_type": "code",
   "execution_count": 174,
   "metadata": {},
   "outputs": [],
   "source": [
    "dataset = pd.read_csv('Churn_Modelling.csv')\n",
    "x = dataset.iloc[:, 3:-1].values\n",
    "y = dataset.iloc[:, -1].values\n",
    "xSample = [600, 'France', 'Male', 40, 3, 60000, 2, 1, 1, 50000]\n",
    "x = np.append(x, [xSample], axis = 0)"
   ]
  },
  {
   "cell_type": "code",
   "execution_count": 175,
   "metadata": {
    "scrolled": true
   },
   "outputs": [],
   "source": [
    "from sklearn.preprocessing import LabelEncoder, OneHotEncoder\n",
    "labelX = LabelEncoder()\n",
    "x[:, 1] = labelX.fit_transform(x[:, 1])\n",
    "x[:, 2] = labelX.fit_transform(x[:, 2])\n",
    "oneHotEncoder = OneHotEncoder(categorical_features = [1])\n",
    "xComplete = oneHotEncoder.fit_transform(x).toarray()\n",
    "x = xComplete[:-1, 1:]\n",
    "xSample = xComplete[-1, 1:].reshape(1, -1)"
   ]
  },
  {
   "cell_type": "code",
   "execution_count": 176,
   "metadata": {},
   "outputs": [],
   "source": [
    "from sklearn.model_selection import train_test_split\n",
    "xTrain, xTest, yTrain, yTest = train_test_split(x, y, test_size = 0.2, random_state = 0)"
   ]
  },
  {
   "cell_type": "code",
   "execution_count": 177,
   "metadata": {},
   "outputs": [],
   "source": [
    "from sklearn.preprocessing import StandardScaler\n",
    "sc = StandardScaler()\n",
    "xTrain = sc.fit_transform(xTrain)\n",
    "xTest = sc.transform(xTest)\n",
    "xSample = sc.transform(xSample)"
   ]
  },
  {
   "cell_type": "code",
   "execution_count": 153,
   "metadata": {},
   "outputs": [],
   "source": [
    "import keras\n",
    "from keras.models import Sequential\n",
    "from keras.layers import Dense"
   ]
  },
  {
   "cell_type": "code",
   "execution_count": 154,
   "metadata": {},
   "outputs": [],
   "source": [
    "classifier = Sequential()"
   ]
  },
  {
   "cell_type": "code",
   "execution_count": 155,
   "metadata": {},
   "outputs": [],
   "source": [
    "classifier.add(Dense(activation = \"relu\", input_dim = 11, units = 6, kernel_initializer = 'uniform'))"
   ]
  },
  {
   "cell_type": "code",
   "execution_count": 156,
   "metadata": {},
   "outputs": [],
   "source": [
    "classifier.add(Dense(activation = \"relu\", units = 6, kernel_initializer = 'uniform'))"
   ]
  },
  {
   "cell_type": "code",
   "execution_count": 157,
   "metadata": {},
   "outputs": [],
   "source": [
    "classifier.add(Dense(activation = \"sigmoid\", units = 1, kernel_initializer = 'uniform'))"
   ]
  },
  {
   "cell_type": "code",
   "execution_count": 158,
   "metadata": {},
   "outputs": [],
   "source": [
    "classifier.compile(loss = 'binary_crossentropy', optimizer = 'adam', metrics = ['accuracy'])"
   ]
  },
  {
   "cell_type": "code",
   "execution_count": 159,
   "metadata": {
    "scrolled": true
   },
   "outputs": [
    {
     "name": "stdout",
     "output_type": "stream",
     "text": [
      "Epoch 1/20\n",
      "8000/8000 [==============================] - 3s 371us/step - loss: 0.4664 - acc: 0.7959\n",
      "Epoch 2/20\n",
      "8000/8000 [==============================] - 2s 296us/step - loss: 0.4266 - acc: 0.7970\n",
      "Epoch 3/20\n",
      "8000/8000 [==============================] - 2s 302us/step - loss: 0.4171 - acc: 0.8259\n",
      "Epoch 4/20\n",
      "8000/8000 [==============================] - 2s 308us/step - loss: 0.4100 - acc: 0.8343\n",
      "Epoch 5/20\n",
      "8000/8000 [==============================] - 3s 330us/step - loss: 0.4057 - acc: 0.8338\n",
      "Epoch 6/20\n",
      "8000/8000 [==============================] - 3s 315us/step - loss: 0.4032 - acc: 0.8350\n",
      "Epoch 7/20\n",
      "8000/8000 [==============================] - 2s 308us/step - loss: 0.4004 - acc: 0.8341\n",
      "Epoch 8/20\n",
      "8000/8000 [==============================] - 3s 313us/step - loss: 0.3998 - acc: 0.8354\n",
      "Epoch 9/20\n",
      "8000/8000 [==============================] - 3s 313us/step - loss: 0.3995 - acc: 0.8349\n",
      "Epoch 10/20\n",
      "8000/8000 [==============================] - 3s 340us/step - loss: 0.3977 - acc: 0.8359\n",
      "Epoch 11/20\n",
      "8000/8000 [==============================] - 3s 340us/step - loss: 0.3977 - acc: 0.8343\n",
      "Epoch 12/20\n",
      "8000/8000 [==============================] - 3s 330us/step - loss: 0.3971 - acc: 0.8356\n",
      "Epoch 13/20\n",
      "8000/8000 [==============================] - 3s 315us/step - loss: 0.3968 - acc: 0.8355\n",
      "Epoch 14/20\n",
      "8000/8000 [==============================] - 3s 315us/step - loss: 0.3959 - acc: 0.8351\n",
      "Epoch 15/20\n",
      "8000/8000 [==============================] - 3s 320us/step - loss: 0.3940 - acc: 0.8351\n",
      "Epoch 16/20\n",
      "8000/8000 [==============================] - 2s 308us/step - loss: 0.3922 - acc: 0.8381\n",
      "Epoch 17/20\n",
      "8000/8000 [==============================] - 3s 323us/step - loss: 0.3901 - acc: 0.8365\n",
      "Epoch 18/20\n",
      "8000/8000 [==============================] - 3s 316us/step - loss: 0.3861 - acc: 0.8384\n",
      "Epoch 19/20\n",
      "8000/8000 [==============================] - 3s 317us/step - loss: 0.3827 - acc: 0.8370\n",
      "Epoch 20/20\n",
      "8000/8000 [==============================] - 2s 309us/step - loss: 0.3784 - acc: 0.8388\n"
     ]
    },
    {
     "data": {
      "text/plain": [
       "<keras.callbacks.History at 0x1c85bee1e48>"
      ]
     },
     "execution_count": 159,
     "metadata": {},
     "output_type": "execute_result"
    }
   ],
   "source": [
    "classifier.fit(xTrain, yTrain, batch_size = 5, epochs = 20)"
   ]
  },
  {
   "cell_type": "code",
   "execution_count": 178,
   "metadata": {},
   "outputs": [],
   "source": [
    "yPredicted = classifier.predict(xTest)\n",
    "yPredicted = (yPredicted > 0.5)"
   ]
  },
  {
   "cell_type": "code",
   "execution_count": 179,
   "metadata": {},
   "outputs": [],
   "source": [
    "from sklearn.metrics import confusion_matrix\n",
    "cm = confusion_matrix(yTest, yPredicted)"
   ]
  },
  {
   "cell_type": "code",
   "execution_count": 180,
   "metadata": {},
   "outputs": [
    {
     "name": "stdout",
     "output_type": "stream",
     "text": [
      "0.836\n"
     ]
    }
   ],
   "source": [
    "print((cm[0, 0] + cm[1, 1]) / 2000)"
   ]
  },
  {
   "cell_type": "code",
   "execution_count": 181,
   "metadata": {},
   "outputs": [
    {
     "name": "stdout",
     "output_type": "stream",
     "text": [
      "[[0.06011952]]\n"
     ]
    }
   ],
   "source": [
    "predict = classifier.predict(xSample)\n",
    "predict = (predict > 0.5)\n",
    "print(predict)"
   ]
  },
  {
   "cell_type": "code",
   "execution_count": null,
   "metadata": {},
   "outputs": [],
   "source": []
  }
 ],
 "metadata": {
  "kernelspec": {
   "display_name": "Python 3",
   "language": "python",
   "name": "python3"
  },
  "language_info": {
   "codemirror_mode": {
    "name": "ipython",
    "version": 3
   },
   "file_extension": ".py",
   "mimetype": "text/x-python",
   "name": "python",
   "nbconvert_exporter": "python",
   "pygments_lexer": "ipython3",
   "version": "3.6.3"
  }
 },
 "nbformat": 4,
 "nbformat_minor": 2
}
