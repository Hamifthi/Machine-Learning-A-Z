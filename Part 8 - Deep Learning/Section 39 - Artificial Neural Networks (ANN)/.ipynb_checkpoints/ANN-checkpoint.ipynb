{
 "cells": [
  {
   "cell_type": "code",
   "execution_count": 7,
   "metadata": {},
   "outputs": [],
   "source": [
    "import numpy as np\n",
    "import matplotlib.pyplot as plt\n",
    "import pandas as pd"
   ]
  },
  {
   "cell_type": "code",
   "execution_count": 8,
   "metadata": {},
   "outputs": [],
   "source": [
    "dataset = pd.read_csv('Churn_Modelling.csv')\n",
    "x = dataset.iloc[:, 3:-1].values\n",
    "y = dataset.iloc[:, -1].values\n",
    "xSample = [600, 'France', 'Male', 40, 3, 60000, 2, 1, 1, 50000]\n",
    "x = np.append(x, [xSample], axis = 0)"
   ]
  },
  {
   "cell_type": "code",
   "execution_count": 9,
   "metadata": {
    "scrolled": true
   },
   "outputs": [],
   "source": [
    "from sklearn.preprocessing import LabelEncoder, OneHotEncoder\n",
    "labelX = LabelEncoder()\n",
    "x[:, 1] = labelX.fit_transform(x[:, 1])\n",
    "x[:, 2] = labelX.fit_transform(x[:, 2])\n",
    "oneHotEncoder = OneHotEncoder(categorical_features = [1])\n",
    "xComplete = oneHotEncoder.fit_transform(x).toarray()\n",
    "x = xComplete[:-1, 1:]\n",
    "xSample = xComplete[-1, 1:].reshape(1, -1)"
   ]
  },
  {
   "cell_type": "code",
   "execution_count": 10,
   "metadata": {},
   "outputs": [],
   "source": [
    "from sklearn.model_selection import train_test_split\n",
    "xTrain, xTest, yTrain, yTest = train_test_split(x, y, test_size = 0.2, random_state = 0)"
   ]
  },
  {
   "cell_type": "code",
   "execution_count": 11,
   "metadata": {},
   "outputs": [],
   "source": [
    "from sklearn.preprocessing import StandardScaler\n",
    "sc = StandardScaler()\n",
    "xTrain = sc.fit_transform(xTrain)\n",
    "xTest = sc.transform(xTest)\n",
    "xSample = sc.transform(xSample)"
   ]
  },
  {
   "cell_type": "code",
   "execution_count": 12,
   "metadata": {},
   "outputs": [],
   "source": [
    "import keras\n",
    "from keras.models import Sequential\n",
    "from keras.layers import Dense\n",
    "from keras.layers import Dropout"
   ]
  },
  {
   "cell_type": "code",
   "execution_count": 17,
   "metadata": {},
   "outputs": [],
   "source": [
    "classifier = Sequential()"
   ]
  },
  {
   "cell_type": "code",
   "execution_count": 18,
   "metadata": {},
   "outputs": [],
   "source": [
    "classifier.add(Dense(activation = \"relu\", input_dim = 11, units = 6, kernel_initializer = 'uniform'))\n",
    "classifier.add(Dropout(rate = 0.1))"
   ]
  },
  {
   "cell_type": "code",
   "execution_count": 19,
   "metadata": {},
   "outputs": [],
   "source": [
    "classifier.add(Dense(activation = \"relu\", units = 6, kernel_initializer = 'uniform'))\n",
    "classifier.add(Dropout(rate=e = 0.1))"
   ]
  },
  {
   "cell_type": "code",
   "execution_count": 20,
   "metadata": {},
   "outputs": [],
   "source": [
    "classifier.add(Dense(activation = \"sigmoid\", units = 1, kernel_initializer = 'uniform'))"
   ]
  },
  {
   "cell_type": "code",
   "execution_count": 21,
   "metadata": {},
   "outputs": [],
   "source": [
    "classifier.compile(loss = 'binary_crossentropy', optimizer = 'adam', metrics = ['accuracy'])"
   ]
  },
  {
   "cell_type": "code",
   "execution_count": 22,
   "metadata": {
    "scrolled": true
   },
   "outputs": [
    {
     "name": "stdout",
     "output_type": "stream",
     "text": [
      "Epoch 1/20\n",
      "8000/8000 [==============================] - 5s 602us/step - loss: 0.4674 - acc: 0.7959\n",
      "Epoch 2/20\n",
      "8000/8000 [==============================] - 3s 364us/step - loss: 0.4359 - acc: 0.7960\n",
      "Epoch 3/20\n",
      "8000/8000 [==============================] - 3s 371us/step - loss: 0.4302 - acc: 0.7960\n",
      "Epoch 4/20\n",
      "8000/8000 [==============================] - 3s 372us/step - loss: 0.4259 - acc: 0.8100\n",
      "Epoch 5/20\n",
      "8000/8000 [==============================] - 3s 368us/step - loss: 0.4310 - acc: 0.8223\n",
      "Epoch 6/20\n",
      "8000/8000 [==============================] - 3s 373us/step - loss: 0.4231 - acc: 0.8258\n",
      "Epoch 7/20\n",
      "8000/8000 [==============================] - 3s 377us/step - loss: 0.4271 - acc: 0.8284\n",
      "Epoch 8/20\n",
      "8000/8000 [==============================] - 3s 370us/step - loss: 0.4247 - acc: 0.8281\n",
      "Epoch 9/20\n",
      "8000/8000 [==============================] - 3s 376us/step - loss: 0.4290 - acc: 0.8285\n",
      "Epoch 10/20\n",
      "8000/8000 [==============================] - 3s 380us/step - loss: 0.4268 - acc: 0.8305\n",
      "Epoch 11/20\n",
      "8000/8000 [==============================] - 3s 399us/step - loss: 0.4239 - acc: 0.8295\n",
      "Epoch 12/20\n",
      "8000/8000 [==============================] - 3s 389us/step - loss: 0.4231 - acc: 0.8299\n",
      "Epoch 13/20\n",
      "8000/8000 [==============================] - 3s 387us/step - loss: 0.4240 - acc: 0.8303\n",
      "Epoch 14/20\n",
      "8000/8000 [==============================] - 3s 386us/step - loss: 0.4219 - acc: 0.8328\n",
      "Epoch 15/20\n",
      "8000/8000 [==============================] - 3s 390us/step - loss: 0.4251 - acc: 0.8305\n",
      "Epoch 16/20\n",
      "8000/8000 [==============================] - 3s 388us/step - loss: 0.4226 - acc: 0.8331\n",
      "Epoch 17/20\n",
      "8000/8000 [==============================] - 3s 386us/step - loss: 0.4238 - acc: 0.8306\n",
      "Epoch 18/20\n",
      "8000/8000 [==============================] - 3s 388us/step - loss: 0.4274 - acc: 0.8304\n",
      "Epoch 19/20\n",
      "8000/8000 [==============================] - 3s 395us/step - loss: 0.4226 - acc: 0.8313\n",
      "Epoch 20/20\n",
      "8000/8000 [==============================] - 3s 384us/step - loss: 0.4261 - acc: 0.8314\n"
     ]
    },
    {
     "data": {
      "text/plain": [
       "<keras.callbacks.History at 0x19657b4b358>"
      ]
     },
     "execution_count": 22,
     "metadata": {},
     "output_type": "execute_result"
    }
   ],
   "source": [
    "classifier.fit(xTrain, yTrain, batch_size = 5, epochs = 20)"
   ]
  },
  {
   "cell_type": "code",
   "execution_count": 23,
   "metadata": {},
   "outputs": [],
   "source": [
    "yPredicted = classifier.predict(xTest)\n",
    "yPredicted = (yPredicted > 0.5)"
   ]
  },
  {
   "cell_type": "code",
   "execution_count": 24,
   "metadata": {},
   "outputs": [],
   "source": [
    "from sklearn.metrics import confusion_matrix\n",
    "cm = confusion_matrix(yTest, yPredicted)"
   ]
  },
  {
   "cell_type": "code",
   "execution_count": 25,
   "metadata": {},
   "outputs": [
    {
     "name": "stdout",
     "output_type": "stream",
     "text": [
      "0.84\n"
     ]
    }
   ],
   "source": [
    "print((cm[0, 0] + cm[1, 1]) / 2000)"
   ]
  },
  {
   "cell_type": "code",
   "execution_count": 16,
   "metadata": {},
   "outputs": [
    {
     "name": "stdout",
     "output_type": "stream",
     "text": [
      "[[False]]\n"
     ]
    }
   ],
   "source": [
    "predict = classifier.predict(xSample)\n",
    "predict = (predict > 0.5)\n",
    "print(predict)"
   ]
  },
  {
   "cell_type": "code",
   "execution_count": 10,
   "metadata": {},
   "outputs": [],
   "source": [
    "from keras.wrappers.scikit_learn import KerasClassifier\n",
    "from sklearn.model_selection import cross_val_score\n",
    "from buildFunction import buildClassifier\n",
    "classifier = KerasClassifier(build_fn = buildClassifier, batch_size = 10, epochs = 20)\n",
    "accuracies = cross_val_score(estimator = classifier, X = xTrain, y = yTrain, cv = 10, n_jobs = -1) "
   ]
  },
  {
   "cell_type": "code",
   "execution_count": 12,
   "metadata": {},
   "outputs": [
    {
     "name": "stdout",
     "output_type": "stream",
     "text": [
      "[0.83124999 0.83124999 0.83125    0.83374999 0.85749999 0.8525\n",
      " 0.8325     0.82125    0.79875    0.84624999]\n",
      "0.8336249950528145\n",
      "0.015726668924340204\n"
     ]
    }
   ],
   "source": [
    "print(accuracies)\n",
    "print(accuracies.mean())\n",
    "print(accuracies.std())"
   ]
  },
  {
   "cell_type": "code",
   "execution_count": null,
   "metadata": {},
   "outputs": [],
   "source": [
    "from keras.wrappers.scikit_learn import KerasClassifier\n",
    "from sklearn.model_selection import GridSearchCV\n",
    "from buildFunction import buildClassifier\n",
    "classifier = KerasClassifier(build_fn = buildClassifier)\n",
    "parameters = {'batch_size' : [25, 32], 'epochs' : [100, 500], 'optimizer' : ['adam', 'rmsprop']}\n",
    "gridSearch = GridSearchCV(estimator = classifier, param_grid = parameters, scoring = 'accuracy', cv = 10, n_jobs = -1)\n",
    "gridSearch = gridSearch.fit(xTrain, yTrain)\n",
    "bestParameters = gridSearch.best_params_\n",
    "bestAccuracy = gridSearch.best_score_"
   ]
  }
 ],
 "metadata": {
  "kernelspec": {
   "display_name": "Python 3",
   "language": "python",
   "name": "python3"
  },
  "language_info": {
   "codemirror_mode": {
    "name": "ipython",
    "version": 3
   },
   "file_extension": ".py",
   "mimetype": "text/x-python",
   "name": "python",
   "nbconvert_exporter": "python",
   "pygments_lexer": "ipython3",
   "version": "3.6.3"
  }
 },
 "nbformat": 4,
 "nbformat_minor": 2
}
