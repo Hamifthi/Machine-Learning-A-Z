{
 "cells": [
  {
   "cell_type": "code",
   "execution_count": 3,
   "metadata": {},
   "outputs": [],
   "source": [
    "import numpy as np\n",
    "import matplotlib.pyplot as plt\n",
    "import pandas as pd"
   ]
  },
  {
   "cell_type": "code",
   "execution_count": 4,
   "metadata": {},
   "outputs": [],
   "source": [
    "dataset = pd.read_csv('Churn_Modelling.csv')\n",
    "x = dataset.iloc[:, 3:-1].values\n",
    "y = dataset.iloc[:, -1].values\n",
    "xSample = [600, 'France', 'Male', 40, 3, 60000, 2, 1, 1, 50000]\n",
    "x = np.append(x, [xSample], axis = 0)"
   ]
  },
  {
   "cell_type": "code",
   "execution_count": 5,
   "metadata": {
    "scrolled": true
   },
   "outputs": [],
   "source": [
    "from sklearn.preprocessing import LabelEncoder, OneHotEncoder\n",
    "labelX = LabelEncoder()\n",
    "x[:, 1] = labelX.fit_transform(x[:, 1])\n",
    "x[:, 2] = labelX.fit_transform(x[:, 2])\n",
    "oneHotEncoder = OneHotEncoder(categorical_features = [1])\n",
    "xComplete = oneHotEncoder.fit_transform(x).toarray()\n",
    "x = xComplete[:-1, 1:]\n",
    "xSample = xComplete[-1, 1:].reshape(1, -1)"
   ]
  },
  {
   "cell_type": "code",
   "execution_count": 6,
   "metadata": {},
   "outputs": [],
   "source": [
    "from sklearn.model_selection import train_test_split\n",
    "xTrain, xTest, yTrain, yTest = train_test_split(x, y, test_size = 0.2, random_state = 0)"
   ]
  },
  {
   "cell_type": "code",
   "execution_count": 7,
   "metadata": {},
   "outputs": [],
   "source": [
    "from sklearn.preprocessing import StandardScaler\n",
    "sc = StandardScaler()\n",
    "xTrain = sc.fit_transform(xTrain)\n",
    "xTest = sc.transform(xTest)\n",
    "xSample = sc.transform(xSample)"
   ]
  },
  {
   "cell_type": "code",
   "execution_count": 8,
   "metadata": {},
   "outputs": [
    {
     "name": "stderr",
     "output_type": "stream",
     "text": [
      "Using TensorFlow backend.\n"
     ]
    }
   ],
   "source": [
    "import keras\n",
    "from keras.models import Sequential\n",
    "from keras.layers import Dense"
   ]
  },
  {
   "cell_type": "code",
   "execution_count": 7,
   "metadata": {},
   "outputs": [],
   "source": [
    "classifier = Sequential()"
   ]
  },
  {
   "cell_type": "code",
   "execution_count": 8,
   "metadata": {},
   "outputs": [],
   "source": [
    "classifier.add(Dense(activation = \"relu\", input_dim = 11, units = 6, kernel_initializer = 'uniform'))"
   ]
  },
  {
   "cell_type": "code",
   "execution_count": 9,
   "metadata": {},
   "outputs": [],
   "source": [
    "classifier.add(Dense(activation = \"relu\", units = 6, kernel_initializer = 'uniform'))"
   ]
  },
  {
   "cell_type": "code",
   "execution_count": 10,
   "metadata": {},
   "outputs": [],
   "source": [
    "classifier.add(Dense(activation = \"sigmoid\", units = 1, kernel_initializer = 'uniform'))"
   ]
  },
  {
   "cell_type": "code",
   "execution_count": 11,
   "metadata": {},
   "outputs": [],
   "source": [
    "classifier.compile(loss = 'binary_crossentropy', optimizer = 'adam', metrics = ['accuracy'])"
   ]
  },
  {
   "cell_type": "code",
   "execution_count": 12,
   "metadata": {
    "scrolled": true
   },
   "outputs": [
    {
     "name": "stdout",
     "output_type": "stream",
     "text": [
      "Epoch 1/20\n",
      "8000/8000 [==============================] - 3s 364us/step - loss: 0.4597 - acc: 0.7960\n",
      "Epoch 2/20\n",
      "8000/8000 [==============================] - 2s 281us/step - loss: 0.4220 - acc: 0.8054\n",
      "Epoch 3/20\n",
      "8000/8000 [==============================] - 2s 289us/step - loss: 0.4172 - acc: 0.8269\n",
      "Epoch 4/20\n",
      "8000/8000 [==============================] - 2s 302us/step - loss: 0.4143 - acc: 0.8301\n",
      "Epoch 5/20\n",
      "8000/8000 [==============================] - 2s 292us/step - loss: 0.4129 - acc: 0.8306\n",
      "Epoch 6/20\n",
      "8000/8000 [==============================] - 2s 294us/step - loss: 0.4102 - acc: 0.8333\n",
      "Epoch 7/20\n",
      "8000/8000 [==============================] - 2s 296us/step - loss: 0.4097 - acc: 0.8334\n",
      "Epoch 8/20\n",
      "8000/8000 [==============================] - 2s 289us/step - loss: 0.4081 - acc: 0.8349\n",
      "Epoch 9/20\n",
      "8000/8000 [==============================] - 2s 285us/step - loss: 0.4077 - acc: 0.8339\n",
      "Epoch 10/20\n",
      "8000/8000 [==============================] - 2s 293us/step - loss: 0.4074 - acc: 0.8339\n",
      "Epoch 11/20\n",
      "8000/8000 [==============================] - 2s 294us/step - loss: 0.4066 - acc: 0.8351\n",
      "Epoch 12/20\n",
      "8000/8000 [==============================] - 2s 300us/step - loss: 0.4060 - acc: 0.8341\n",
      "Epoch 13/20\n",
      "8000/8000 [==============================] - 2s 288us/step - loss: 0.4047 - acc: 0.8330\n",
      "Epoch 14/20\n",
      "8000/8000 [==============================] - 2s 292us/step - loss: 0.4048 - acc: 0.8346\n",
      "Epoch 15/20\n",
      "8000/8000 [==============================] - 3s 319us/step - loss: 0.4046 - acc: 0.8336\n",
      "Epoch 16/20\n",
      "8000/8000 [==============================] - 2s 286us/step - loss: 0.4037 - acc: 0.8336\n",
      "Epoch 17/20\n",
      "8000/8000 [==============================] - 2s 288us/step - loss: 0.4038 - acc: 0.8346\n",
      "Epoch 18/20\n",
      "8000/8000 [==============================] - 2s 304us/step - loss: 0.4037 - acc: 0.8341\n",
      "Epoch 19/20\n",
      "8000/8000 [==============================] - 2s 291us/step - loss: 0.4038 - acc: 0.8330\n",
      "Epoch 20/20\n",
      "8000/8000 [==============================] - 2s 296us/step - loss: 0.4031 - acc: 0.8343\n"
     ]
    },
    {
     "data": {
      "text/plain": [
       "<keras.callbacks.History at 0x205386d0b00>"
      ]
     },
     "execution_count": 12,
     "metadata": {},
     "output_type": "execute_result"
    }
   ],
   "source": [
    "classifier.fit(xTrain, yTrain, batch_size = 5, epochs = 20)"
   ]
  },
  {
   "cell_type": "code",
   "execution_count": 13,
   "metadata": {},
   "outputs": [],
   "source": [
    "yPredicted = classifier.predict(xTest)\n",
    "yPredicted = (yPredicted > 0.5)"
   ]
  },
  {
   "cell_type": "code",
   "execution_count": 14,
   "metadata": {},
   "outputs": [],
   "source": [
    "from sklearn.metrics import confusion_matrix\n",
    "cm = confusion_matrix(yTest, yPredicted)"
   ]
  },
  {
   "cell_type": "code",
   "execution_count": 15,
   "metadata": {},
   "outputs": [
    {
     "name": "stdout",
     "output_type": "stream",
     "text": [
      "0.8415\n"
     ]
    }
   ],
   "source": [
    "print((cm[0, 0] + cm[1, 1]) / 2000)"
   ]
  },
  {
   "cell_type": "code",
   "execution_count": 16,
   "metadata": {},
   "outputs": [
    {
     "name": "stdout",
     "output_type": "stream",
     "text": [
      "[[False]]\n"
     ]
    }
   ],
   "source": [
    "predict = classifier.predict(xSample)\n",
    "predict = (predict > 0.5)\n",
    "print(predict)"
   ]
  },
  {
   "cell_type": "code",
   "execution_count": 10,
   "metadata": {},
   "outputs": [],
   "source": [
    "from keras.wrappers.scikit_learn import KerasClassifier\n",
    "from sklearn.model_selection import cross_val_score\n",
    "from buildFunction import buildClassifier\n",
    "classifier = KerasClassifier(build_fn = buildClassifier, batch_size = 10, epochs = 20)\n",
    "accuracies = cross_val_score(estimator = classifier, X = xTrain, y = yTrain, cv = 10, n_jobs = -1) "
   ]
  },
  {
   "cell_type": "code",
   "execution_count": 11,
   "metadata": {},
   "outputs": [
    {
     "name": "stdout",
     "output_type": "stream",
     "text": [
      "[0.83124999 0.83124999 0.83125    0.83374999 0.85749999 0.8525\n",
      " 0.8325     0.82125    0.79875    0.84624999]\n",
      "0.8336249950528145\n"
     ]
    },
    {
     "ename": "AttributeError",
     "evalue": "'numpy.ndarray' object has no attribute 'variance'",
     "output_type": "error",
     "traceback": [
      "\u001b[1;31m---------------------------------------------------------------------------\u001b[0m",
      "\u001b[1;31mAttributeError\u001b[0m                            Traceback (most recent call last)",
      "\u001b[1;32m<ipython-input-11-6687cd0396ca>\u001b[0m in \u001b[0;36m<module>\u001b[1;34m()\u001b[0m\n\u001b[0;32m      1\u001b[0m \u001b[0mprint\u001b[0m\u001b[1;33m(\u001b[0m\u001b[0maccuracies\u001b[0m\u001b[1;33m)\u001b[0m\u001b[1;33m\u001b[0m\u001b[0m\n\u001b[0;32m      2\u001b[0m \u001b[0mprint\u001b[0m\u001b[1;33m(\u001b[0m\u001b[0maccuracies\u001b[0m\u001b[1;33m.\u001b[0m\u001b[0mmean\u001b[0m\u001b[1;33m(\u001b[0m\u001b[1;33m)\u001b[0m\u001b[1;33m)\u001b[0m\u001b[1;33m\u001b[0m\u001b[0m\n\u001b[1;32m----> 3\u001b[1;33m \u001b[0mprint\u001b[0m\u001b[1;33m(\u001b[0m\u001b[0maccuracies\u001b[0m\u001b[1;33m.\u001b[0m\u001b[0mvariance\u001b[0m\u001b[1;33m(\u001b[0m\u001b[1;33m)\u001b[0m\u001b[1;33m)\u001b[0m\u001b[1;33m\u001b[0m\u001b[0m\n\u001b[0m",
      "\u001b[1;31mAttributeError\u001b[0m: 'numpy.ndarray' object has no attribute 'variance'"
     ]
    }
   ],
   "source": [
    "print(accuracies)\n",
    "print(accuracies.mean())\n",
    "print(accuracies.std())"
   ]
  },
  {
   "cell_type": "code",
   "execution_count": null,
   "metadata": {},
   "outputs": [],
   "source": []
  }
 ],
 "metadata": {
  "kernelspec": {
   "display_name": "Python 3",
   "language": "python",
   "name": "python3"
  },
  "language_info": {
   "codemirror_mode": {
    "name": "ipython",
    "version": 3
   },
   "file_extension": ".py",
   "mimetype": "text/x-python",
   "name": "python",
   "nbconvert_exporter": "python",
   "pygments_lexer": "ipython3",
   "version": "3.6.3"
  }
 },
 "nbformat": 4,
 "nbformat_minor": 2
}
