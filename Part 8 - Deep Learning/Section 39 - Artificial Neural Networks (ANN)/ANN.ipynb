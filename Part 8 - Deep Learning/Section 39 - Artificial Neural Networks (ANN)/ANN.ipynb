{
 "cells": [
  {
   "cell_type": "code",
   "execution_count": 67,
   "metadata": {},
   "outputs": [],
   "source": [
    "import numpy as np\n",
    "import matplotlib.pyplot as plt\n",
    "import pandas as pd"
   ]
  },
  {
   "cell_type": "code",
   "execution_count": 68,
   "metadata": {},
   "outputs": [],
   "source": [
    "dataset = pd.read_csv('Churn_Modelling.csv')\n",
    "x = dataset.iloc[:, 3:-1].values\n",
    "y = dataset.iloc[:, -1].values"
   ]
  },
  {
   "cell_type": "code",
   "execution_count": 69,
   "metadata": {
    "scrolled": true
   },
   "outputs": [],
   "source": [
    "from sklearn.preprocessing import LabelEncoder, OneHotEncoder\n",
    "labelX = LabelEncoder()\n",
    "x[:, 1] = labelX.fit_transform(x[:, 1])\n",
    "x[:, 2] = labelX.fit_transform(x[:, 2])\n",
    "oneHotEncoder = OneHotEncoder(categorical_features = [1])\n",
    "x = oneHotEncoder.fit_transform(x).toarray()\n",
    "x = x[:, 1:]"
   ]
  },
  {
   "cell_type": "code",
   "execution_count": 70,
   "metadata": {},
   "outputs": [],
   "source": [
    "from sklearn.model_selection import train_test_split\n",
    "xTrain, xTest, yTrain, yTest = train_test_split(x, y, test_size = 0.2, random_state = 0)"
   ]
  },
  {
   "cell_type": "code",
   "execution_count": 71,
   "metadata": {},
   "outputs": [],
   "source": [
    "from sklearn.preprocessing import StandardScaler\n",
    "sc = StandardScaler()\n",
    "xTrain = sc.fit_transform(xTrain)\n",
    "xTest = sc.transform(xTest)"
   ]
  },
  {
   "cell_type": "code",
   "execution_count": 72,
   "metadata": {},
   "outputs": [],
   "source": [
    "import keras\n",
    "from keras.models import Sequential\n",
    "from keras.layers import Dense"
   ]
  },
  {
   "cell_type": "code",
   "execution_count": 73,
   "metadata": {},
   "outputs": [],
   "source": [
    "classifier = Sequential()"
   ]
  },
  {
   "cell_type": "code",
   "execution_count": 74,
   "metadata": {},
   "outputs": [],
   "source": [
    "classifier.add(Dense(activation = \"relu\", input_dim = 11, units = 6, kernel_initializer = 'uniform'))"
   ]
  },
  {
   "cell_type": "code",
   "execution_count": 75,
   "metadata": {},
   "outputs": [],
   "source": [
    "classifier.add(Dense(activation = \"relu\", units = 6, kernel_initializer = 'uniform'))"
   ]
  },
  {
   "cell_type": "code",
   "execution_count": 76,
   "metadata": {},
   "outputs": [],
   "source": [
    "classifier.add(Dense(activation = \"sigmoid\", units = 1, kernel_initializer = 'uniform'))"
   ]
  },
  {
   "cell_type": "code",
   "execution_count": 77,
   "metadata": {},
   "outputs": [],
   "source": [
    "classifier.compile(loss = 'binary_crossentropy', optimizer = 'adam', metrics = ['accuracy'])"
   ]
  },
  {
   "cell_type": "code",
   "execution_count": 78,
   "metadata": {
    "scrolled": true
   },
   "outputs": [
    {
     "name": "stdout",
     "output_type": "stream",
     "text": [
      "Epoch 1/20\n",
      "8000/8000 [==============================] - 3s 409us/step - loss: 0.4582 - acc: 0.7960\n",
      "Epoch 2/20\n",
      "8000/8000 [==============================] - 3s 326us/step - loss: 0.4259 - acc: 0.7960\n",
      "Epoch 3/20\n",
      "8000/8000 [==============================] - 3s 335us/step - loss: 0.4190 - acc: 0.8221\n",
      "Epoch 4/20\n",
      "8000/8000 [==============================] - 3s 335us/step - loss: 0.4163 - acc: 0.8264\n",
      "Epoch 5/20\n",
      "8000/8000 [==============================] - 3s 331us/step - loss: 0.4131 - acc: 0.8306\n",
      "Epoch 6/20\n",
      "8000/8000 [==============================] - 3s 332us/step - loss: 0.4114 - acc: 0.8318\n",
      "Epoch 7/20\n",
      "8000/8000 [==============================] - 3s 333us/step - loss: 0.4093 - acc: 0.8341\n",
      "Epoch 8/20\n",
      "8000/8000 [==============================] - 3s 333us/step - loss: 0.4087 - acc: 0.8330\n",
      "Epoch 9/20\n",
      "8000/8000 [==============================] - 3s 333us/step - loss: 0.4076 - acc: 0.8331\n",
      "Epoch 10/20\n",
      "8000/8000 [==============================] - 3s 336us/step - loss: 0.4069 - acc: 0.8340\n",
      "Epoch 11/20\n",
      "8000/8000 [==============================] - 3s 334us/step - loss: 0.4057 - acc: 0.8349\n",
      "Epoch 12/20\n",
      "8000/8000 [==============================] - 3s 320us/step - loss: 0.4053 - acc: 0.8335\n",
      "Epoch 13/20\n",
      "8000/8000 [==============================] - 3s 315us/step - loss: 0.4048 - acc: 0.8339\n",
      "Epoch 14/20\n",
      "8000/8000 [==============================] - 2s 305us/step - loss: 0.4043 - acc: 0.8331\n",
      "Epoch 15/20\n",
      "8000/8000 [==============================] - 3s 315us/step - loss: 0.4044 - acc: 0.8344\n",
      "Epoch 16/20\n",
      "8000/8000 [==============================] - 3s 326us/step - loss: 0.4037 - acc: 0.8351\n",
      "Epoch 17/20\n",
      "8000/8000 [==============================] - 3s 329us/step - loss: 0.4033 - acc: 0.8358\n",
      "Epoch 18/20\n",
      "8000/8000 [==============================] - 3s 336us/step - loss: 0.4035 - acc: 0.8346\n",
      "Epoch 19/20\n",
      "8000/8000 [==============================] - 3s 339us/step - loss: 0.4036 - acc: 0.8351\n",
      "Epoch 20/20\n",
      "8000/8000 [==============================] - 3s 333us/step - loss: 0.4032 - acc: 0.8353\n"
     ]
    },
    {
     "data": {
      "text/plain": [
       "<keras.callbacks.History at 0x1adf5e120b8>"
      ]
     },
     "execution_count": 78,
     "metadata": {},
     "output_type": "execute_result"
    }
   ],
   "source": [
    "classifier.fit(xTrain, yTrain, batch_size = 5, epochs = 20)"
   ]
  },
  {
   "cell_type": "code",
   "execution_count": 82,
   "metadata": {},
   "outputs": [],
   "source": [
    "yPredicted = classifier.predict(xTest)\n",
    "yPredicted = (yPredicted > 0.5)"
   ]
  },
  {
   "cell_type": "code",
   "execution_count": 83,
   "metadata": {},
   "outputs": [],
   "source": [
    "from sklearn.metrics import confusion_matrix\n",
    "cm = confusion_matrix(yTest, yPredicted)"
   ]
  },
  {
   "cell_type": "code",
   "execution_count": 84,
   "metadata": {},
   "outputs": [
    {
     "name": "stdout",
     "output_type": "stream",
     "text": [
      "[[1547   48]\n",
      " [ 272  133]]\n"
     ]
    }
   ],
   "source": [
    "print((cm[0, 0] + cm[1, 1]) / 2000)"
   ]
  }
 ],
 "metadata": {
  "kernelspec": {
   "display_name": "Python 3",
   "language": "python",
   "name": "python3"
  },
  "language_info": {
   "codemirror_mode": {
    "name": "ipython",
    "version": 3
   },
   "file_extension": ".py",
   "mimetype": "text/x-python",
   "name": "python",
   "nbconvert_exporter": "python",
   "pygments_lexer": "ipython3",
   "version": "3.6.3"
  }
 },
 "nbformat": 4,
 "nbformat_minor": 2
}
