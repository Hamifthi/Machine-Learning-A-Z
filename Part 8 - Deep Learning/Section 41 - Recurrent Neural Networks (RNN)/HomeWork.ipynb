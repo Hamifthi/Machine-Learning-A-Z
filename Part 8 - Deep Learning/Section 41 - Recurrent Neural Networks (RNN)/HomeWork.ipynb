{
 "cells": [
  {
   "cell_type": "code",
   "execution_count": 136,
   "metadata": {},
   "outputs": [],
   "source": [
    "import numpy as np\n",
    "import pandas as pd\n",
    "import matplotlib.pyplot as plt"
   ]
  },
  {
   "cell_type": "code",
   "execution_count": 137,
   "metadata": {},
   "outputs": [],
   "source": [
    "trainingSet = pd.read_csv('Google_Stock_Price_Train.csv')\n",
    "trainingSet = trainingSet.iloc[:, 1 : 2]\n",
    "testSet = pd.read_csv('Google_Stock_Price_Test.csv')\n",
    "testSet = testSet.iloc[:, 1 : 2]"
   ]
  },
  {
   "cell_type": "code",
   "execution_count": 138,
   "metadata": {},
   "outputs": [],
   "source": [
    "from sklearn.preprocessing import MinMaxScaler\n",
    "sc = MinMaxScaler()\n",
    "trainingSet = sc.fit_transform(trainingSet)\n",
    "realStockPrice = sc.transform(testSet)"
   ]
  },
  {
   "cell_type": "code",
   "execution_count": 139,
   "metadata": {},
   "outputs": [],
   "source": [
    "realStockPrice = np.concatenate((trainingSet[1238:], realStockPrice), axis = 0)"
   ]
  },
  {
   "cell_type": "code",
   "execution_count": 140,
   "metadata": {},
   "outputs": [],
   "source": [
    "def createDataset (dataset, lookBack):\n",
    "    xTrain, yTrain = [], []\n",
    "    for number in range(len(dataset) - lookBack):\n",
    "        xTrain.append(dataset[number:number + lookBack, 0])\n",
    "        yTrain.append(dataset[number + lookBack])\n",
    "    return np.array(xTrain), np.array(yTrain)"
   ]
  },
  {
   "cell_type": "code",
   "execution_count": 141,
   "metadata": {},
   "outputs": [],
   "source": [
    "xTrain = createDataset(trainingSet, 20)[0]\n",
    "yTrain = createDataset(trainingSet, 20)[1]\n",
    "inputs = createDataset(realStockPrice, 20)[0]\n",
    "inputs = inputs.reshape(20, 20, 1)"
   ]
  },
  {
   "cell_type": "code",
   "execution_count": 142,
   "metadata": {},
   "outputs": [],
   "source": [
    "xTrain = xTrain.reshape(1238, 20, 1)"
   ]
  },
  {
   "cell_type": "code",
   "execution_count": 143,
   "metadata": {},
   "outputs": [],
   "source": [
    "np.random.seed(7)"
   ]
  },
  {
   "cell_type": "code",
   "execution_count": 144,
   "metadata": {},
   "outputs": [],
   "source": [
    "from keras.models import Sequential\n",
    "from keras.layers import Dense\n",
    "from keras.layers import LSTM"
   ]
  },
  {
   "cell_type": "code",
   "execution_count": 145,
   "metadata": {},
   "outputs": [],
   "source": [
    "model = Sequential()"
   ]
  },
  {
   "cell_type": "code",
   "execution_count": 146,
   "metadata": {},
   "outputs": [],
   "source": [
    "model.add(LSTM(units = 4, activation = 'sigmoid', input_shape = (20, 1)))"
   ]
  },
  {
   "cell_type": "code",
   "execution_count": 147,
   "metadata": {},
   "outputs": [],
   "source": [
    "model.add(Dense(units = 1))"
   ]
  },
  {
   "cell_type": "code",
   "execution_count": 148,
   "metadata": {},
   "outputs": [],
   "source": [
    "model.compile(optimizer = 'rmsprop', loss = 'mean_squared_error')"
   ]
  },
  {
   "cell_type": "code",
   "execution_count": 149,
   "metadata": {},
   "outputs": [
    {
     "name": "stdout",
     "output_type": "stream",
     "text": [
      "Epoch 1/100\n",
      "1238/1238 [==============================] - 2s 2ms/step - loss: 0.3335\n",
      "Epoch 2/100\n",
      "1238/1238 [==============================] - 1s 507us/step - loss: 0.2067\n",
      "Epoch 3/100\n",
      "1238/1238 [==============================] - 1s 489us/step - loss: 0.1268\n",
      "Epoch 4/100\n",
      "1238/1238 [==============================] - 1s 478us/step - loss: 0.0877\n",
      "Epoch 5/100\n",
      "1238/1238 [==============================] - 1s 479us/step - loss: 0.0786\n",
      "Epoch 6/100\n",
      "1238/1238 [==============================] - 1s 485us/step - loss: 0.0744\n",
      "Epoch 7/100\n",
      "1238/1238 [==============================] - 1s 503us/step - loss: 0.0701\n",
      "Epoch 8/100\n",
      "1238/1238 [==============================] - 1s 477us/step - loss: 0.0658\n",
      "Epoch 9/100\n",
      "1238/1238 [==============================] - 1s 483us/step - loss: 0.0611 0s - los\n",
      "Epoch 10/100\n",
      "1238/1238 [==============================] - 1s 483us/step - loss: 0.0561\n",
      "Epoch 11/100\n",
      "1238/1238 [==============================] - 1s 496us/step - loss: 0.0509 0s - loss: 0.050\n",
      "Epoch 12/100\n",
      "1238/1238 [==============================] - 1s 505us/step - loss: 0.0450\n",
      "Epoch 13/100\n",
      "1238/1238 [==============================] - 1s 491us/step - loss: 0.0390 0s - loss: \n",
      "Epoch 14/100\n",
      "1238/1238 [==============================] - 1s 483us/step - loss: 0.0325\n",
      "Epoch 15/100\n",
      "1238/1238 [==============================] - 1s 483us/step - loss: 0.0261\n",
      "Epoch 16/100\n",
      "1238/1238 [==============================] - 1s 466us/step - loss: 0.0199\n",
      "Epoch 17/100\n",
      "1238/1238 [==============================] - 1s 522us/step - loss: 0.0139\n",
      "Epoch 18/100\n",
      "1238/1238 [==============================] - 1s 482us/step - loss: 0.0086\n",
      "Epoch 19/100\n",
      "1238/1238 [==============================] - 1s 477us/step - loss: 0.0041\n",
      "Epoch 20/100\n",
      "1238/1238 [==============================] - 1s 487us/step - loss: 0.0017\n",
      "Epoch 21/100\n",
      "1238/1238 [==============================] - 1s 483us/step - loss: 8.8038e-04\n",
      "Epoch 22/100\n",
      "1238/1238 [==============================] - 1s 486us/step - loss: 7.3723e-04\n",
      "Epoch 23/100\n",
      "1238/1238 [==============================] - 1s 530us/step - loss: 7.0300e-04\n",
      "Epoch 24/100\n",
      "1238/1238 [==============================] - 1s 504us/step - loss: 6.8842e-04\n",
      "Epoch 25/100\n",
      "1238/1238 [==============================] - 1s 494us/step - loss: 6.6654e-04\n",
      "Epoch 26/100\n",
      "1238/1238 [==============================] - 1s 494us/step - loss: 6.6146e-04\n",
      "Epoch 27/100\n",
      "1238/1238 [==============================] - 1s 512us/step - loss: 6.4047e-04 0s - loss: 5.5\n",
      "Epoch 28/100\n",
      "1238/1238 [==============================] - 1s 509us/step - loss: 6.2791e-04\n",
      "Epoch 29/100\n",
      "1238/1238 [==============================] - 1s 513us/step - loss: 6.3390e-04\n",
      "Epoch 30/100\n",
      "1238/1238 [==============================] - 1s 514us/step - loss: 6.1260e-04\n",
      "Epoch 31/100\n",
      "1238/1238 [==============================] - 1s 522us/step - loss: 6.0030e-04 0s - loss: 6.0764e-\n",
      "Epoch 32/100\n",
      "1238/1238 [==============================] - 1s 551us/step - loss: 6.1079e-04\n",
      "Epoch 33/100\n",
      "1238/1238 [==============================] - 1s 512us/step - loss: 5.8809e-04\n",
      "Epoch 34/100\n",
      "1238/1238 [==============================] - 1s 508us/step - loss: 5.7548e-04\n",
      "Epoch 35/100\n",
      "1238/1238 [==============================] - 1s 502us/step - loss: 5.7854e-04\n",
      "Epoch 36/100\n",
      "1238/1238 [==============================] - 1s 509us/step - loss: 5.7596e-04\n",
      "Epoch 37/100\n",
      "1238/1238 [==============================] - 1s 523us/step - loss: 5.5569e-04\n",
      "Epoch 38/100\n",
      "1238/1238 [==============================] - 1s 549us/step - loss: 5.5005e-04\n",
      "Epoch 39/100\n",
      "1238/1238 [==============================] - 1s 504us/step - loss: 5.5999e-04\n",
      "Epoch 40/100\n",
      "1238/1238 [==============================] - 1s 504us/step - loss: 5.3198e-04\n",
      "Epoch 41/100\n",
      "1238/1238 [==============================] - 1s 519us/step - loss: 5.3874e-04\n",
      "Epoch 42/100\n",
      "1238/1238 [==============================] - 1s 518us/step - loss: 5.3994e-04\n",
      "Epoch 43/100\n",
      "1238/1238 [==============================] - 1s 513us/step - loss: 5.3334e-04\n",
      "Epoch 44/100\n",
      "1238/1238 [==============================] - 1s 513us/step - loss: 5.2523e-04\n",
      "Epoch 45/100\n",
      "1238/1238 [==============================] - 1s 559us/step - loss: 5.2196e-04\n",
      "Epoch 46/100\n",
      "1238/1238 [==============================] - 1s 509us/step - loss: 5.1154e-04\n",
      "Epoch 47/100\n",
      "1238/1238 [==============================] - 1s 517us/step - loss: 5.1472e-04\n",
      "Epoch 48/100\n",
      "1238/1238 [==============================] - 1s 511us/step - loss: 5.1406e-04\n",
      "Epoch 49/100\n",
      "1238/1238 [==============================] - 1s 512us/step - loss: 4.9838e-04\n",
      "Epoch 50/100\n",
      "1238/1238 [==============================] - 1s 529us/step - loss: 4.9086e-04\n",
      "Epoch 51/100\n",
      "1238/1238 [==============================] - 1s 731us/step - loss: 4.9118e-04\n",
      "Epoch 52/100\n",
      "1238/1238 [==============================] - 1s 712us/step - loss: 4.8806e-04\n",
      "Epoch 53/100\n",
      "1238/1238 [==============================] - 1s 542us/step - loss: 4.9717e-04\n",
      "Epoch 54/100\n",
      "1238/1238 [==============================] - 1s 530us/step - loss: 4.9654e-04\n",
      "Epoch 55/100\n",
      "1238/1238 [==============================] - 1s 521us/step - loss: 4.8220e-04\n",
      "Epoch 56/100\n",
      "1238/1238 [==============================] - 1s 523us/step - loss: 4.9347e-04\n",
      "Epoch 57/100\n",
      "1238/1238 [==============================] - 1s 526us/step - loss: 4.8488e-04\n",
      "Epoch 58/100\n",
      "1238/1238 [==============================] - 1s 516us/step - loss: 4.7737e-04\n",
      "Epoch 59/100\n",
      "1238/1238 [==============================] - 1s 531us/step - loss: 4.7292e-04\n",
      "Epoch 60/100\n",
      "1238/1238 [==============================] - 1s 535us/step - loss: 4.7298e-04\n",
      "Epoch 61/100\n",
      "1238/1238 [==============================] - 1s 524us/step - loss: 4.7022e-04\n",
      "Epoch 62/100\n",
      "1238/1238 [==============================] - 1s 509us/step - loss: 4.7826e-04\n",
      "Epoch 63/100\n",
      "1238/1238 [==============================] - 1s 520us/step - loss: 4.6371e-04\n",
      "Epoch 64/100\n",
      "1238/1238 [==============================] - 1s 525us/step - loss: 4.6448e-04\n",
      "Epoch 65/100\n",
      "1238/1238 [==============================] - 1s 529us/step - loss: 4.7177e-04\n",
      "Epoch 66/100\n",
      "1238/1238 [==============================] - 1s 531us/step - loss: 4.6260e-04\n",
      "Epoch 67/100\n",
      "1238/1238 [==============================] - 1s 527us/step - loss: 4.5296e-04\n",
      "Epoch 68/100\n",
      "1238/1238 [==============================] - 1s 546us/step - loss: 4.6448e-04\n",
      "Epoch 69/100\n",
      "1238/1238 [==============================] - 1s 560us/step - loss: 4.5676e-04\n",
      "Epoch 70/100\n",
      "1238/1238 [==============================] - 1s 533us/step - loss: 4.4756e-04\n",
      "Epoch 71/100\n",
      "1238/1238 [==============================] - 1s 530us/step - loss: 4.4843e-04\n",
      "Epoch 72/100\n",
      "1238/1238 [==============================] - 1s 524us/step - loss: 4.5225e-04\n",
      "Epoch 73/100\n",
      "1238/1238 [==============================] - 1s 529us/step - loss: 4.4880e-04\n",
      "Epoch 74/100\n",
      "1238/1238 [==============================] - 1s 543us/step - loss: 4.4294e-04\n",
      "Epoch 75/100\n",
      "1238/1238 [==============================] - 1s 560us/step - loss: 4.5428e-04\n",
      "Epoch 76/100\n",
      "1238/1238 [==============================] - 1s 528us/step - loss: 4.3881e-04\n",
      "Epoch 77/100\n",
      "1238/1238 [==============================] - 1s 527us/step - loss: 4.4791e-04\n",
      "Epoch 78/100\n",
      "1238/1238 [==============================] - 1s 534us/step - loss: 4.3823e-04\n",
      "Epoch 79/100\n",
      "1238/1238 [==============================] - 1s 532us/step - loss: 4.4441e-04\n",
      "Epoch 80/100\n",
      "1238/1238 [==============================] - 1s 533us/step - loss: 4.4410e-04\n",
      "Epoch 81/100\n",
      "1238/1238 [==============================] - 1s 563us/step - loss: 4.3837e-04\n",
      "Epoch 82/100\n",
      "1238/1238 [==============================] - 1s 650us/step - loss: 4.4009e-04\n",
      "Epoch 83/100\n",
      "1238/1238 [==============================] - 1s 533us/step - loss: 4.4105e-04\n",
      "Epoch 84/100\n",
      "1238/1238 [==============================] - 1s 528us/step - loss: 4.1711e-04\n",
      "Epoch 85/100\n",
      "1238/1238 [==============================] - 1s 530us/step - loss: 4.3168e-04\n",
      "Epoch 86/100\n",
      "1238/1238 [==============================] - 1s 529us/step - loss: 4.3221e-04\n",
      "Epoch 87/100\n",
      "1238/1238 [==============================] - 1s 543us/step - loss: 4.2882e-04\n",
      "Epoch 88/100\n",
      "1238/1238 [==============================] - 1s 549us/step - loss: 4.3100e-04\n",
      "Epoch 89/100\n",
      "1238/1238 [==============================] - 1s 531us/step - loss: 4.3594e-04\n",
      "Epoch 90/100\n",
      "1238/1238 [==============================] - 1s 525us/step - loss: 4.2452e-04\n",
      "Epoch 91/100\n"
     ]
    },
    {
     "name": "stdout",
     "output_type": "stream",
     "text": [
      "1238/1238 [==============================] - 1s 509us/step - loss: 4.2013e-04\n",
      "Epoch 92/100\n",
      "1238/1238 [==============================] - 1s 529us/step - loss: 4.1250e-04\n",
      "Epoch 93/100\n",
      "1238/1238 [==============================] - 1s 516us/step - loss: 4.1993e-04\n",
      "Epoch 94/100\n",
      "1238/1238 [==============================] - 1s 510us/step - loss: 4.2824e-04\n",
      "Epoch 95/100\n",
      "1238/1238 [==============================] - 1s 499us/step - loss: 4.2774e-04\n",
      "Epoch 96/100\n",
      "1238/1238 [==============================] - 1s 513us/step - loss: 4.1010e-04\n",
      "Epoch 97/100\n",
      "1238/1238 [==============================] - 1s 525us/step - loss: 4.1751e-04\n",
      "Epoch 98/100\n",
      "1238/1238 [==============================] - 1s 526us/step - loss: 4.2595e-04\n",
      "Epoch 99/100\n",
      "1238/1238 [==============================] - 1s 516us/step - loss: 4.1172e-04\n",
      "Epoch 100/100\n",
      "1238/1238 [==============================] - 1s 527us/step - loss: 4.1464e-04\n"
     ]
    },
    {
     "data": {
      "text/plain": [
       "<keras.callbacks.History at 0x20e5c810128>"
      ]
     },
     "execution_count": 149,
     "metadata": {},
     "output_type": "execute_result"
    }
   ],
   "source": [
    "model.fit(xTrain, yTrain, batch_size = 32, epochs = 100)"
   ]
  },
  {
   "cell_type": "code",
   "execution_count": 152,
   "metadata": {},
   "outputs": [],
   "source": [
    "predictedStockPrice = model.predict(inputs)\n",
    "predictedStockPrice = sc.inverse_transform(predictedStockPrice)"
   ]
  },
  {
   "cell_type": "code",
   "execution_count": 154,
   "metadata": {},
   "outputs": [
    {
     "data": {
      "text/plain": [
       "<matplotlib.legend.Legend at 0x20e5d6bd1d0>"
      ]
     },
     "execution_count": 154,
     "metadata": {},
     "output_type": "execute_result"
    },
    {
     "data": {
      "image/png": "[encoded data removed]",
      "text/plain": [
       "<matplotlib.figure.Figure at 0x20e5d602b38>"
      ]
     },
     "metadata": {},
     "output_type": "display_data"
    }
   ],
   "source": [
    "plt.plot(testSet, color = 'red', label = 'Real google stock price')\n",
    "plt.plot(predictedStockPrice, color = 'blue', label = 'Predicted google stock price')\n",
    "plt.title('Google Stock Price Prediction')\n",
    "plt.xlabel('Time')\n",
    "plt.ylabel('Google Stock Prices')\n",
    "plt.legend()"
   ]
  }
 ],
 "metadata": {
  "kernelspec": {
   "display_name": "Python 3",
   "language": "python",
   "name": "python3"
  },
  "language_info": {
   "codemirror_mode": {
    "name": "ipython",
    "version": 3
   },
   "file_extension": ".py",
   "mimetype": "text/x-python",
   "name": "python",
   "nbconvert_exporter": "python",
   "pygments_lexer": "ipython3",
   "version": "3.6.3"
  }
 },
 "nbformat": 4,
 "nbformat_minor": 2
}
